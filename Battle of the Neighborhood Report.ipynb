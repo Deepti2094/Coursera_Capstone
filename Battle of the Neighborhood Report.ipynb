{
 "cells": [
  {
   "cell_type": "markdown",
   "metadata": {
    "collapsed": true
   },
   "source": [
    "# Introduction/Business Problem: \n",
    "This project is basically aimed at helping locals or tourists visiting India in searching best place on \n",
    "the basis of variety of cuisines. As food is directly linked with tourism in this era, we would help foodoholics in easily finding best place to go. This will also help restaurants in attracting customers. We would analyze the restaurants locations in four major cities of India and find best place among the cities. It will be a good help to tourists as they do not have to go hunting out."
   ]
  },
  {
   "cell_type": "markdown",
   "metadata": {},
   "source": [
    "# Data Selection: \n",
    "We are going to use the FourSquare API to collect data about locations of restaurents in major tourist places in India \n",
    "i.e.  Mumbai, Delhi, Chennai and Kolkata. We would figure out city with highest density of restaurants. Here, we are assuming that the density of restaurents would be directly proportional to variety since all these cities are equally populous and are famous tourist location."
   ]
  }
 ],
 "metadata": {
  "kernelspec": {
   "display_name": "Python 3.6",
   "language": "python",
   "name": "python3"
  },
  "language_info": {
   "codemirror_mode": {
    "name": "ipython",
    "version": 3
   },
   "file_extension": ".py",
   "mimetype": "text/x-python",
   "name": "python",
   "nbconvert_exporter": "python",
   "pygments_lexer": "ipython3",
   "version": "3.6.9"
  }
 },
 "nbformat": 4,
 "nbformat_minor": 1
}
