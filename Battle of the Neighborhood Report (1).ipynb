{
 "cells": [
  {
   "cell_type": "markdown",
   "metadata": {
    "collapsed": true
   },
   "source": [
    "# Introduction/Business Problem: \n",
    "This project is basically aimed at helping locals or tourists visiting India in searching best place on \n",
    "the basis of variety of cuisines. As food is directly linked with tourism in this era, we would help foodoholics in easily finding best place to go. This will also help restaurants in attracting customers. We would analyze the restaurants locations in four major cities of India and find best place among the cities. It will be a good help to tourists as they do not have to go hunting out."
   ]
  },
  {
   "cell_type": "markdown",
   "metadata": {},
   "source": [
    "# Data Selection: \n",
    "We are going to use the FourSquare API to collect data about locations of restaurants in major tourist places in India \n",
    "i.e.  Mumbai, Delhi, Chennai and Kolkata. We would figure out city with highest density of restaurants. Here, we are assuming that the density of restaurants would be directly proportional to variety since all these cities are equally populous and are famous tourist location."
   ]
  },
  {
   "cell_type": "markdown",
   "metadata": {},
   "source": [
    "# Methodology\n",
    "My target here is to find out which city has the highest restaurant/food places density. I used the Four Square API through the venues channel. I used the near query to get food places in the cities.  Also, I use the CategoryID to set it to show only Food Places, hence covering major food joints. An Example of my requests:\n",
    "https://api.foursquare.com/v2/venues/explore?&client_id=&client_secret=&v=20180605&Delhi, IN&limit=100&categoryId=4d4b7105d754a06374d81259\n",
    "The 4d4b7105d754a06374d81259 is the Id of the Food Place Category. Also, Foursquare limits us to maximum of 100 venues per query.\n",
    "Moreover, I repeated this request for all the studied cities and got their top 100 venues. I saved the name and coordinate data only \n",
    "from the result and plotted them on the map for visual inspection.\n",
    "Next, to get an indicator of the density of food Places, I calculated a center coordinate of the venues to get the mean longitude \n",
    "and latitude values. Then I calculated the mean of the Euclidean distance from each venue to the mean coordinates. \n",
    "That was my indicator; mean distance to the mean coordinate.\n"
   ]
  },
  {
   "cell_type": "markdown",
   "metadata": {},
   "source": [
    "# Results\n",
    "For our initial visual inspection we see that they all have multiple food places. Considering density, Mumbai tops the list.\n",
    "Below link shows various plots created using python as well as mean distance from mean coordinates counted:\n",
    "1. Delhi, IN\n",
    "[28.584661406589277, 77.20788416712709] [28.69388244100248, 77.14998090659716]\n",
    "Mean Distance from Mean coordinates\n",
    "0.05177313485446367\n",
    "2. Mumbai, IN\n",
    "[19.033275651564235, 72.83747964648356] [19.15251493490186, 72.83092221126502]\n",
    "Mean Distance from Mean coordinates\n",
    "0.0731607650555944\n",
    "3. Chennai, IN\n",
    "[13.050365212027755, 80.2435103957549] [12.996417106009028, 80.26850213041183]\n",
    "Mean Distance from Mean coordinates\n",
    "0.02771038427140823\n",
    "4. Kolkata, IN\n",
    "[22.552139493508275, 88.37299833095761] [22.63313975970929, 88.43453647133795]\n",
    "Mean Distance from Mean coordinates\n",
    "0.03498408488623034  \n",
    "https://nbviewer.jupyter.org/github/Deepti2094/Coursera_Capstone/blob/master/Final_%20Battle%20of%20the%20Neighborhood.ipynb"
   ]
  },
  {
   "cell_type": "markdown",
   "metadata": {},
   "source": [
    "# Discussions\n",
    "One thing I noticed in the figure is that restaurants/food joints mapped in Delhi are actually lying in Delhi NCR region. \n",
    "Now Delhi NCR region area is spread in 3 states, thus giving it a low density compared to Mumbai. \n",
    "One consideration to do further work on is to move the location of the Foursquare API query until we get all the food places in \n",
    "each city and do the calculations again. Here, the call limitaion is a short coming."
   ]
  },
  {
   "cell_type": "markdown",
   "metadata": {},
   "source": [
    "# Conclusion\n",
    "It is pretty clear that Mumbai is most rich in food joints/restaurants.\n",
    "Also, I would recommend that tourist books a hotel close to the mean coordinate so that wide choices are available."
   ]
  }
 ],
 "metadata": {
  "kernelspec": {
   "display_name": "Python 3.6",
   "language": "python",
   "name": "python3"
  },
  "language_info": {
   "codemirror_mode": {
    "name": "ipython",
    "version": 3
   },
   "file_extension": ".py",
   "mimetype": "text/x-python",
   "name": "python",
   "nbconvert_exporter": "python",
   "pygments_lexer": "ipython3",
   "version": "3.6.9"
  }
 },
 "nbformat": 4,
 "nbformat_minor": 1
}
